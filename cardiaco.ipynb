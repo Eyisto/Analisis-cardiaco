{
 "cells": [
  {
   "cell_type": "code",
   "execution_count": 1,
   "id": "cfb61a9b-f24a-4ce8-997b-e02dd4e6d00f",
   "metadata": {},
   "outputs": [],
   "source": [
    "import pandas as pd\n",
    "import numpy as np\n",
    "import seaborn as sns\n",
    "import matplotlib.pyplot as plt\n",
    "import seaborn as sns\n",
    "import matplotlib\n",
    "from IPython import get_ipython\n",
    "import sklearn\n",
    "from sklearn.model_selection import train_test_split\n",
    "from sklearn.linear_model import LinearRegression\n",
    "from sklearn.metrics import mean_squared_error, r2_score\n",
    "import math"
   ]
  },
  {
   "cell_type": "markdown",
   "id": "c7e7d287-a1ab-4d95-853c-c09536738782",
   "metadata": {},
   "source": [
    "### Leer los datos cardiacos de los pacientes"
   ]
  },
  {
   "cell_type": "code",
   "execution_count": 2,
   "id": "467f59c1-cb1a-4a4f-a37e-5007f7ccc5f9",
   "metadata": {},
   "outputs": [],
   "source": [
    "df=pd.read_csv('cardio_base.csv', encoding='latin-1')"
   ]
  },
  {
   "cell_type": "markdown",
   "id": "8aaf51e9-fe2a-4ae5-a884-8ffc4db26a44",
   "metadata": {},
   "source": [
    "### Mostrar información sobre los datos"
   ]
  },
  {
   "cell_type": "code",
   "execution_count": 3,
   "id": "7ddb355c-6436-4839-9bf8-c6bfaf86804c",
   "metadata": {},
   "outputs": [
    {
     "name": "stdout",
     "output_type": "stream",
     "text": [
      "<class 'pandas.core.frame.DataFrame'>\n",
      "RangeIndex: 70000 entries, 0 to 69999\n",
      "Data columns (total 9 columns):\n",
      " #   Column       Non-Null Count  Dtype  \n",
      "---  ------       --------------  -----  \n",
      " 0   id           70000 non-null  int64  \n",
      " 1   age          70000 non-null  int64  \n",
      " 2   gender       70000 non-null  int64  \n",
      " 3   height       70000 non-null  int64  \n",
      " 4   weight       70000 non-null  float64\n",
      " 5   ap_hi        70000 non-null  int64  \n",
      " 6   ap_lo        70000 non-null  int64  \n",
      " 7   cholesterol  70000 non-null  int64  \n",
      " 8   smoke        70000 non-null  int64  \n",
      "dtypes: float64(1), int64(8)\n",
      "memory usage: 4.8 MB\n"
     ]
    }
   ],
   "source": [
    "df.info()"
   ]
  },
  {
   "cell_type": "code",
   "execution_count": 4,
   "id": "8bbdb5d2-b35d-47f5-a199-a04df2761e56",
   "metadata": {},
   "outputs": [
    {
     "data": {
      "text/html": [
       "<div>\n",
       "<style scoped>\n",
       "    .dataframe tbody tr th:only-of-type {\n",
       "        vertical-align: middle;\n",
       "    }\n",
       "\n",
       "    .dataframe tbody tr th {\n",
       "        vertical-align: top;\n",
       "    }\n",
       "\n",
       "    .dataframe thead th {\n",
       "        text-align: right;\n",
       "    }\n",
       "</style>\n",
       "<table border=\"1\" class=\"dataframe\">\n",
       "  <thead>\n",
       "    <tr style=\"text-align: right;\">\n",
       "      <th></th>\n",
       "      <th>id</th>\n",
       "      <th>age</th>\n",
       "      <th>gender</th>\n",
       "      <th>height</th>\n",
       "      <th>weight</th>\n",
       "      <th>ap_hi</th>\n",
       "      <th>ap_lo</th>\n",
       "      <th>cholesterol</th>\n",
       "      <th>smoke</th>\n",
       "    </tr>\n",
       "  </thead>\n",
       "  <tbody>\n",
       "    <tr>\n",
       "      <th>0</th>\n",
       "      <td>0</td>\n",
       "      <td>18393</td>\n",
       "      <td>2</td>\n",
       "      <td>168</td>\n",
       "      <td>62.0</td>\n",
       "      <td>110</td>\n",
       "      <td>80</td>\n",
       "      <td>1</td>\n",
       "      <td>0</td>\n",
       "    </tr>\n",
       "    <tr>\n",
       "      <th>1</th>\n",
       "      <td>1</td>\n",
       "      <td>20228</td>\n",
       "      <td>1</td>\n",
       "      <td>156</td>\n",
       "      <td>85.0</td>\n",
       "      <td>140</td>\n",
       "      <td>90</td>\n",
       "      <td>3</td>\n",
       "      <td>0</td>\n",
       "    </tr>\n",
       "    <tr>\n",
       "      <th>2</th>\n",
       "      <td>2</td>\n",
       "      <td>18857</td>\n",
       "      <td>1</td>\n",
       "      <td>165</td>\n",
       "      <td>64.0</td>\n",
       "      <td>130</td>\n",
       "      <td>70</td>\n",
       "      <td>3</td>\n",
       "      <td>0</td>\n",
       "    </tr>\n",
       "    <tr>\n",
       "      <th>3</th>\n",
       "      <td>3</td>\n",
       "      <td>17623</td>\n",
       "      <td>2</td>\n",
       "      <td>169</td>\n",
       "      <td>82.0</td>\n",
       "      <td>150</td>\n",
       "      <td>100</td>\n",
       "      <td>1</td>\n",
       "      <td>0</td>\n",
       "    </tr>\n",
       "    <tr>\n",
       "      <th>4</th>\n",
       "      <td>4</td>\n",
       "      <td>17474</td>\n",
       "      <td>1</td>\n",
       "      <td>156</td>\n",
       "      <td>56.0</td>\n",
       "      <td>100</td>\n",
       "      <td>60</td>\n",
       "      <td>1</td>\n",
       "      <td>0</td>\n",
       "    </tr>\n",
       "  </tbody>\n",
       "</table>\n",
       "</div>"
      ],
      "text/plain": [
       "   id    age  gender  height  weight  ap_hi  ap_lo  cholesterol  smoke\n",
       "0   0  18393       2     168    62.0    110     80            1      0\n",
       "1   1  20228       1     156    85.0    140     90            3      0\n",
       "2   2  18857       1     165    64.0    130     70            3      0\n",
       "3   3  17623       2     169    82.0    150    100            1      0\n",
       "4   4  17474       1     156    56.0    100     60            1      0"
      ]
     },
     "execution_count": 4,
     "metadata": {},
     "output_type": "execute_result"
    }
   ],
   "source": [
    "df.head()"
   ]
  },
  {
   "cell_type": "markdown",
   "id": "38af00f5-8f95-4517-b836-6b025a56cc72",
   "metadata": {},
   "source": [
    "#### Convertir la edad de dias a años"
   ]
  },
  {
   "cell_type": "code",
   "execution_count": 5,
   "id": "5d82f646-0a53-4c2c-b098-2cc46ecc0a25",
   "metadata": {},
   "outputs": [
    {
     "data": {
      "text/html": [
       "<div>\n",
       "<style scoped>\n",
       "    .dataframe tbody tr th:only-of-type {\n",
       "        vertical-align: middle;\n",
       "    }\n",
       "\n",
       "    .dataframe tbody tr th {\n",
       "        vertical-align: top;\n",
       "    }\n",
       "\n",
       "    .dataframe thead th {\n",
       "        text-align: right;\n",
       "    }\n",
       "</style>\n",
       "<table border=\"1\" class=\"dataframe\">\n",
       "  <thead>\n",
       "    <tr style=\"text-align: right;\">\n",
       "      <th></th>\n",
       "      <th>id</th>\n",
       "      <th>age</th>\n",
       "      <th>gender</th>\n",
       "      <th>height</th>\n",
       "      <th>weight</th>\n",
       "      <th>ap_hi</th>\n",
       "      <th>ap_lo</th>\n",
       "      <th>cholesterol</th>\n",
       "      <th>smoke</th>\n",
       "      <th>Edad_en_anios</th>\n",
       "    </tr>\n",
       "  </thead>\n",
       "  <tbody>\n",
       "    <tr>\n",
       "      <th>0</th>\n",
       "      <td>0</td>\n",
       "      <td>18393</td>\n",
       "      <td>2</td>\n",
       "      <td>168</td>\n",
       "      <td>62.0</td>\n",
       "      <td>110</td>\n",
       "      <td>80</td>\n",
       "      <td>1</td>\n",
       "      <td>0</td>\n",
       "      <td>50</td>\n",
       "    </tr>\n",
       "    <tr>\n",
       "      <th>1</th>\n",
       "      <td>1</td>\n",
       "      <td>20228</td>\n",
       "      <td>1</td>\n",
       "      <td>156</td>\n",
       "      <td>85.0</td>\n",
       "      <td>140</td>\n",
       "      <td>90</td>\n",
       "      <td>3</td>\n",
       "      <td>0</td>\n",
       "      <td>55</td>\n",
       "    </tr>\n",
       "    <tr>\n",
       "      <th>2</th>\n",
       "      <td>2</td>\n",
       "      <td>18857</td>\n",
       "      <td>1</td>\n",
       "      <td>165</td>\n",
       "      <td>64.0</td>\n",
       "      <td>130</td>\n",
       "      <td>70</td>\n",
       "      <td>3</td>\n",
       "      <td>0</td>\n",
       "      <td>51</td>\n",
       "    </tr>\n",
       "    <tr>\n",
       "      <th>3</th>\n",
       "      <td>3</td>\n",
       "      <td>17623</td>\n",
       "      <td>2</td>\n",
       "      <td>169</td>\n",
       "      <td>82.0</td>\n",
       "      <td>150</td>\n",
       "      <td>100</td>\n",
       "      <td>1</td>\n",
       "      <td>0</td>\n",
       "      <td>48</td>\n",
       "    </tr>\n",
       "    <tr>\n",
       "      <th>4</th>\n",
       "      <td>4</td>\n",
       "      <td>17474</td>\n",
       "      <td>1</td>\n",
       "      <td>156</td>\n",
       "      <td>56.0</td>\n",
       "      <td>100</td>\n",
       "      <td>60</td>\n",
       "      <td>1</td>\n",
       "      <td>0</td>\n",
       "      <td>47</td>\n",
       "    </tr>\n",
       "  </tbody>\n",
       "</table>\n",
       "</div>"
      ],
      "text/plain": [
       "   id    age  gender  height  weight  ap_hi  ap_lo  cholesterol  smoke  \\\n",
       "0   0  18393       2     168    62.0    110     80            1      0   \n",
       "1   1  20228       1     156    85.0    140     90            3      0   \n",
       "2   2  18857       1     165    64.0    130     70            3      0   \n",
       "3   3  17623       2     169    82.0    150    100            1      0   \n",
       "4   4  17474       1     156    56.0    100     60            1      0   \n",
       "\n",
       "   Edad_en_anios  \n",
       "0             50  \n",
       "1             55  \n",
       "2             51  \n",
       "3             48  \n",
       "4             47  "
      ]
     },
     "execution_count": 5,
     "metadata": {},
     "output_type": "execute_result"
    }
   ],
   "source": [
    "def dias_a_anios_redondeado(dias):\n",
    "    return math.floor(dias / 365.25)\n",
    "df['Edad_en_anios'] = df['age'].apply(dias_a_anios_redondeado)\n",
    "\n",
    "# Mostrar el DataFrame resultante\n",
    "df.head()"
   ]
  },
  {
   "cell_type": "markdown",
   "id": "bf6d5992-1c9f-416b-8df1-61647420b785",
   "metadata": {},
   "source": [
    "#### Diferencia de edad entre los dos grupos de personas"
   ]
  },
  {
   "cell_type": "code",
   "execution_count": 36,
   "id": "717d27ce-6a8b-451c-945b-c6b220584171",
   "metadata": {},
   "outputs": [
    {
     "name": "stdout",
     "output_type": "stream",
     "text": [
      "Diferencia en suma de edades en años entre los grupos (en porcentaje): 30.363711329495906\n"
     ]
    }
   ],
   "source": [
    "suma_edades_anios_grupo_1 = df[df['gender'] == 1]['Edad_en_anios'].sum()\n",
    "suma_edades_anios_grupo_2 = df[df['gender'] == 2]['Edad_en_anios'].sum()\n",
    "\n",
    "# Calcular la diferencia entre las sumas de las edades de los grupos\n",
    "suma_total_edades_anios = suma_edades_anios_grupo_1 + suma_edades_anios_grupo_2\n",
    "\n",
    "# Calcular la diferencia porcentual entre las sumas de edades de los grupos\n",
    "diferencia_porcentaje = abs(suma_edades_anios_grupo_1 - suma_edades_anios_grupo_2) / suma_total_edades_anios * 100\n",
    "\n",
    "print(\"Diferencia en suma de edades en años entre los grupos (en porcentaje):\", diferencia_porcentaje)"
   ]
  },
  {
   "cell_type": "markdown",
   "id": "aaff3980-fcc3-42d9-a7e0-ea0cc686a722",
   "metadata": {},
   "source": [
    "#### Comparación del grupo de personas mayores a 50 años y menores, en relación al colesterol"
   ]
  },
  {
   "cell_type": "code",
   "execution_count": 11,
   "id": "6e899c21-3507-4e49-8791-3826acb67928",
   "metadata": {},
   "outputs": [
    {
     "name": "stdout",
     "output_type": "stream",
     "text": [
      "Porcentaje de cambio en el promedio de colesterol entre personas de más de 50 años y personas de 50 años o menos: 14.677217267137497\n",
      "Las personas de más de 50 años tienden a tener un promedio de colesterol más alto en un 14.677217267137497 % en comparación con las personas de 50 años o menos.\n"
     ]
    }
   ],
   "source": [
    "promedio_colesterol_mas_50 = df[df['Edad_en_anios'] > 50]['cholesterol'].mean()\n",
    "\n",
    "# Calcular el promedio de colesterol para personas de 50 años o menos\n",
    "promedio_colesterol_menos_igual_50 = df[df['Edad_en_anios'] <= 50]['cholesterol'].mean()\n",
    "\n",
    "# Calcular el porcentaje de cambio en el promedio de colesterol\n",
    "porcentaje_cambio = ((promedio_colesterol_mas_50 - promedio_colesterol_menos_igual_50) / promedio_colesterol_menos_igual_50) * 100\n",
    "\n",
    "# Imprimir el porcentaje de cambio\n",
    "print(\"Porcentaje de cambio en el promedio de colesterol entre personas de más de 50 años y personas de 50 años o menos:\", porcentaje_cambio)\n",
    "\n",
    "# Comparar los promedios y dar una conclusión\n",
    "if porcentaje_cambio > 0:\n",
    "    print(\"Las personas de más de 50 años tienden a tener un promedio de colesterol más alto en un\", abs(porcentaje_cambio), \"% en comparación con las personas de 50 años o menos.\")\n",
    "elif porcentaje_cambio < 0:\n",
    "    print(\"Las personas de más de 50 años tienden a tener un promedio de colesterol más bajo en un\", abs(porcentaje_cambio), \"% en comparación con las personas de 50 años o menos.\")\n",
    "else:\n",
    "    print(\"No hay diferencia significativa en el promedio de colesterol entre personas de más de 50 años y personas de 50 años o menos.\")"
   ]
  },
  {
   "cell_type": "markdown",
   "id": "9d114edc-9328-4988-83a8-c4bc9bd38fe4",
   "metadata": {},
   "source": [
    "#### Porcentaje de fumadores por grupo"
   ]
  },
  {
   "cell_type": "code",
   "execution_count": 40,
   "id": "2df6a3ae-18ea-46fe-b0af-bf8da00086b5",
   "metadata": {},
   "outputs": [
    {
     "name": "stdout",
     "output_type": "stream",
     "text": [
      "Porcentaje de fumadores en el grupo 1: 1.7856358444981333 %\n",
      "Porcentaje de fumadores en el grupo 2: 21.88802615447487 %\n",
      "El grupo 2 fuma aproximadamente 12.257833097333833 veces más que el grupo 1.\n",
      "Proporción de fumadores en el grupo 1: 1.7856358444981333\n",
      "Proporción de fumadores en el grupo 2: 21.88802615447487\n"
     ]
    }
   ],
   "source": [
    "proporcion_fumadores_grupo_1 = (df[df['gender'] == 1]['smoke'].mean() * 100)\n",
    "proporcion_fumadores_grupo_2 = (df[df['gender'] == 2]['smoke'].mean() * 100)\n",
    "\n",
    "# Imprimir los resultados\n",
    "print(\"Porcentaje de fumadores en el grupo 1:\", proporcion_fumadores_grupo_1, \"%\")\n",
    "print(\"Porcentaje de fumadores en el grupo 2:\", proporcion_fumadores_grupo_2, \"%\")\n",
    "\n",
    "# Comparar los porcentajes y dar una conclusión\n",
    "if proporcion_fumadores_grupo_1 > proporcion_fumadores_grupo_2:\n",
    "    veces_mas_fuma = proporcion_fumadores_grupo_1 / proporcion_fumadores_grupo_2\n",
    "    print(\"El grupo 1 fuma aproximadamente\", veces_mas_fuma, \"veces más que el grupo 2.\")\n",
    "elif proporcion_fumadores_grupo_1 < proporcion_fumadores_grupo_2:\n",
    "    veces_mas_fuma = proporcion_fumadores_grupo_2 / proporcion_fumadores_grupo_1\n",
    "    print(\"El grupo 2 fuma aproximadamente\", veces_mas_fuma, \"veces más que el grupo 1.\")\n",
    "else:\n",
    "    print(\"Ambos grupos fuman igualmente.\")\n",
    "\n",
    "# Imprimir las proporciones de fumadores en cada grupo\n",
    "print(\"Proporción de fumadores en el grupo 1:\", proporcion_fumadores_grupo_1)\n",
    "print(\"Proporción de fumadores en el grupo 2:\", proporcion_fumadores_grupo_2)\n"
   ]
  },
  {
   "cell_type": "markdown",
   "id": "8c3561bc-241d-4da1-a076-7365325818cf",
   "metadata": {},
   "source": [
    "#### Altura del 1% más alto del grupo de personas"
   ]
  },
  {
   "cell_type": "code",
   "execution_count": 42,
   "id": "1380a3f5-285f-4e57-b6b7-e50ecded8708",
   "metadata": {},
   "outputs": [
    {
     "name": "stdout",
     "output_type": "stream",
     "text": [
      "La altura del 1% más alto de las personas es: 117.0\n"
     ]
    }
   ],
   "source": [
    "df_sorted = df.sort_values(by='weight', ascending=False)\n",
    "\n",
    "# Calcular el índice que representa el 1% inferior de las personas\n",
    "indice_1_por_ciento = int(len(df_sorted) * 0.01)\n",
    "\n",
    "# Obtener la altura correspondiente al 1% inferior de las personas (1% más alto)\n",
    "altura_1_por_ciento = df_sorted.iloc[indice_1_por_ciento - 1]['weight']\n",
    "\n",
    "print(\"La altura del 1% más alto de las personas es:\", altura_1_por_ciento)"
   ]
  },
  {
   "cell_type": "code",
   "execution_count": 44,
   "id": "f6d03b5a-f0b0-45ca-bfd2-44cef114555f",
   "metadata": {},
   "outputs": [
    {
     "name": "stdout",
     "output_type": "stream",
     "text": [
      "El promedio de altura del 1% superior de las personas es: 129.773\n"
     ]
    }
   ],
   "source": [
    "df_sorted = df.sort_values(by='weight', ascending=False)\n",
    "\n",
    "# Calcular el número de personas que representa el 1% superior\n",
    "num_personas_1_por_ciento = int(len(df_sorted) * 0.01)\n",
    "\n",
    "# Obtener las alturas del 1% superior de las personas\n",
    "alturas_1_por_ciento_superior = df_sorted.head(num_personas_1_por_ciento)['weight']\n",
    "\n",
    "# Calcular el promedio de las alturas del 1% superior\n",
    "promedio_alturas_1_por_ciento = alturas_1_por_ciento_superior.mean()\n",
    "\n",
    "print(\"El promedio de altura del 1% superior de las personas es:\", promedio_alturas_1_por_ciento)"
   ]
  },
  {
   "cell_type": "markdown",
   "id": "ca65e6eb-10e0-4662-ac66-23cf68a15cb6",
   "metadata": {},
   "source": [
    "#### Cálculo de las correlación entre pares de variables"
   ]
  },
  {
   "cell_type": "code",
   "execution_count": 60,
   "id": "c9b5066d-a663-4f17-a960-be7a23d14ee9",
   "metadata": {},
   "outputs": [
    {
     "name": "stdout",
     "output_type": "stream",
     "text": [
      "El par de variables con la correlación más alta es: ('ap_hi', 'ap_lo')\n",
      "La correlación de rango de Spearman entre estas variables es: 0.7354361051379777\n"
     ]
    }
   ],
   "source": [
    "df = df.drop(columns=['age'])\n",
    "\n",
    "spearman_corr = df.corr(method='spearman')\n",
    "\n",
    "# Quitar las correlaciones de cada variable consigo misma\n",
    "spearman_corr = spearman_corr.mask(np.tril(np.ones_like(spearman_corr, dtype=bool)))\n",
    "\n",
    "# Encontrar el par de variables con la correlación más alta\n",
    "max_corr_pair = spearman_corr.abs().stack().idxmax()\n",
    "\n",
    "print(\"El par de variables con la correlación más alta es:\", max_corr_pair)\n",
    "print(\"La correlación de rango de Spearman entre estas variables es:\", spearman_corr.abs().loc[max_corr_pair])"
   ]
  },
  {
   "cell_type": "code",
   "execution_count": 61,
   "id": "0f0a860c-002f-4801-93ca-9fcf41008c06",
   "metadata": {},
   "outputs": [
    {
     "name": "stdout",
     "output_type": "stream",
     "text": [
      "               id    gender    height    weight     ap_hi     ap_lo  \\\n",
      "id            NaN  0.003506 -0.001886 -0.001292  0.003258 -0.000238   \n",
      "gender        NaN       NaN  0.533805  0.172480  0.063174  0.066374   \n",
      "height        NaN       NaN       NaN  0.313569  0.019381  0.030534   \n",
      "weight        NaN       NaN       NaN       NaN  0.277749  0.254420   \n",
      "ap_hi         NaN       NaN       NaN       NaN       NaN  0.735436   \n",
      "ap_lo         NaN       NaN       NaN       NaN       NaN       NaN   \n",
      "cholesterol   NaN       NaN       NaN       NaN       NaN       NaN   \n",
      "smoke         NaN       NaN       NaN       NaN       NaN       NaN   \n",
      "Edad_en_anios NaN       NaN       NaN       NaN       NaN       NaN   \n",
      "\n",
      "               cholesterol     smoke  Edad_en_anios  \n",
      "id                0.005706 -0.003697       0.003006  \n",
      "gender           -0.035730  0.338135      -0.020529  \n",
      "height           -0.058940  0.197632      -0.083399  \n",
      "weight            0.137908  0.071676       0.062961  \n",
      "ap_hi             0.208722  0.028929       0.220327  \n",
      "ap_lo             0.167401  0.026172       0.157721  \n",
      "cholesterol            NaN  0.015220       0.141547  \n",
      "smoke                  NaN       NaN      -0.047191  \n",
      "Edad_en_anios          NaN       NaN            NaN  \n"
     ]
    }
   ],
   "source": [
    "print(spearman_corr)"
   ]
  },
  {
   "cell_type": "markdown",
   "id": "b75755e2-df94-4604-b1f7-a85594bcbb54",
   "metadata": {},
   "source": [
    "#### Porcentaje de personas que estan a más de 2 desviaciones estandar por encima de la altura promedio"
   ]
  },
  {
   "cell_type": "code",
   "execution_count": 70,
   "id": "c18c690a-8e87-4987-ac57-92752423c348",
   "metadata": {},
   "outputs": [
    {
     "name": "stdout",
     "output_type": "stream",
     "text": [
      "El porcentaje de personas que están a más de 2 desviaciones estándar de la altura promedio es: 2.6914285714285713\n"
     ]
    }
   ],
   "source": [
    "promedio_altura = df['Edad_en_anios'].mean()\n",
    "\n",
    "# Calcular la desviación estándar de la altura\n",
    "desviacion_estandar_altura = df['Edad_en_anios'].std()\n",
    "\n",
    "# Calcular dos veces la desviación estándar por encima y por debajo del promedio de altura\n",
    "limite_superior = promedio_altura + 2 * desviacion_estandar_altura\n",
    "limite_inferior = promedio_altura - 2 * desviacion_estandar_altura\n",
    "\n",
    "# Contar el número de personas cuya altura está por encima o por debajo de estos límites\n",
    "personas_por_encima_del_limite = df[df['Edad_en_anios'] > limite_superior].shape[0]\n",
    "personas_por_debajo_del_limite = df[df['Edad_en_anios'] < limite_inferior].shape[0]\n",
    "\n",
    "# Calcular el porcentaje de personas en relación con el total\n",
    "porcentaje_personas_por_encima_del_limite = (personas_por_encima_del_limite / df.shape[0]) * 100\n",
    "porcentaje_personas_por_debajo_del_limite = (personas_por_debajo_del_limite / df.shape[0]) * 100\n",
    "\n",
    "# Sumar los porcentajes para obtener el total de personas a más de 2 desviaciones estándar de la altura promedio\n",
    "total_porcentaje = porcentaje_personas_por_encima_del_limite + porcentaje_personas_por_debajo_del_limite\n",
    "\n",
    "print(\"El porcentaje de personas que están a más de 2 desviaciones estándar de la altura promedio es:\", total_porcentaje)"
   ]
  },
  {
   "cell_type": "markdown",
   "id": "dc0b2663-d173-4a9f-bcbc-e2a196899c29",
   "metadata": {},
   "source": [
    "#### Leer datos sobre los pacientes en relación al consumo de alcohol "
   ]
  },
  {
   "cell_type": "code",
   "execution_count": 93,
   "id": "a1250635-04ca-45c2-b543-b085985e7493",
   "metadata": {},
   "outputs": [
    {
     "name": "stdout",
     "output_type": "stream",
     "text": [
      "El número de columnas del DataFrame es: 2\n"
     ]
    }
   ],
   "source": [
    "df1=pd.read_csv('cardio_alco.csv',sep=';')\n",
    "num_columnas = df1.shape[1]\n",
    "print(\"El número de columnas del DataFrame es:\", num_columnas)\n"
   ]
  },
  {
   "cell_type": "markdown",
   "id": "1c0b4fde-e53d-4925-b097-7b727fed3ec3",
   "metadata": {},
   "source": [
    "#### Porcentaje de personas mayores a 50 años que consumen alcohol"
   ]
  },
  {
   "cell_type": "code",
   "execution_count": 98,
   "id": "3619e644-9504-4d08-bdb7-166eaca3fb0d",
   "metadata": {},
   "outputs": [
    {
     "name": "stdout",
     "output_type": "stream",
     "text": [
      "El porcentaje de personas mayores de 50 años que consumen alcohol es: 100.0\n"
     ]
    }
   ],
   "source": [
    "df_combined = pd.merge(df, df1, on='id', how='inner')\n",
    "df_combined.head()\n",
    "# Filtrar los datos combinados para eliminar aquellos sin información sobre el consumo de alcohol\n",
    "#df_filtered = df_combined[df_combined['id;alco'].notnull()]\n",
    "\n",
    "mayores_de_50 = df_combined[df_combined['Edad_en_anios'] > 50]\n",
    "\n",
    "# Calcular el porcentaje de personas mayores de 50 años que consumen alcohol\n",
    "porcentaje_consumo_alcohol_mayores_de_50 = (mayores_de_50['alco'].notnull().sum() / len(mayores_de_50)) * 100\n",
    "\n",
    "print(\"El porcentaje de personas mayores de 50 años que consumen alcohol es:\", porcentaje_consumo_alcohol_mayores_de_50)\n",
    "# Mostrar el DataFrame resultante\n",
    "#print(df_filtered)"
   ]
  },
  {
   "cell_type": "markdown",
   "id": "c0d0f896-4236-45af-8b01-7bb3c6637dbb",
   "metadata": {},
   "source": [
    "#### Etiquetar a las personas por genero"
   ]
  },
  {
   "cell_type": "code",
   "execution_count": 100,
   "id": "b1ec430f-98c0-4c50-a12e-d247918fa352",
   "metadata": {},
   "outputs": [
    {
     "data": {
      "text/html": [
       "<div>\n",
       "<style scoped>\n",
       "    .dataframe tbody tr th:only-of-type {\n",
       "        vertical-align: middle;\n",
       "    }\n",
       "\n",
       "    .dataframe tbody tr th {\n",
       "        vertical-align: top;\n",
       "    }\n",
       "\n",
       "    .dataframe thead th {\n",
       "        text-align: right;\n",
       "    }\n",
       "</style>\n",
       "<table border=\"1\" class=\"dataframe\">\n",
       "  <thead>\n",
       "    <tr style=\"text-align: right;\">\n",
       "      <th></th>\n",
       "      <th>id</th>\n",
       "      <th>gender</th>\n",
       "      <th>height</th>\n",
       "      <th>weight</th>\n",
       "      <th>ap_hi</th>\n",
       "      <th>ap_lo</th>\n",
       "      <th>cholesterol</th>\n",
       "      <th>smoke</th>\n",
       "      <th>Edad_en_anios</th>\n",
       "    </tr>\n",
       "  </thead>\n",
       "  <tbody>\n",
       "    <tr>\n",
       "      <th>0</th>\n",
       "      <td>0</td>\n",
       "      <td>2</td>\n",
       "      <td>168</td>\n",
       "      <td>62.0</td>\n",
       "      <td>110</td>\n",
       "      <td>80</td>\n",
       "      <td>1</td>\n",
       "      <td>0</td>\n",
       "      <td>50</td>\n",
       "    </tr>\n",
       "    <tr>\n",
       "      <th>3</th>\n",
       "      <td>3</td>\n",
       "      <td>2</td>\n",
       "      <td>169</td>\n",
       "      <td>82.0</td>\n",
       "      <td>150</td>\n",
       "      <td>100</td>\n",
       "      <td>1</td>\n",
       "      <td>0</td>\n",
       "      <td>48</td>\n",
       "    </tr>\n",
       "    <tr>\n",
       "      <th>7</th>\n",
       "      <td>12</td>\n",
       "      <td>2</td>\n",
       "      <td>178</td>\n",
       "      <td>95.0</td>\n",
       "      <td>130</td>\n",
       "      <td>90</td>\n",
       "      <td>3</td>\n",
       "      <td>0</td>\n",
       "      <td>61</td>\n",
       "    </tr>\n",
       "    <tr>\n",
       "      <th>11</th>\n",
       "      <td>16</td>\n",
       "      <td>2</td>\n",
       "      <td>173</td>\n",
       "      <td>60.0</td>\n",
       "      <td>120</td>\n",
       "      <td>80</td>\n",
       "      <td>1</td>\n",
       "      <td>0</td>\n",
       "      <td>51</td>\n",
       "    </tr>\n",
       "    <tr>\n",
       "      <th>12</th>\n",
       "      <td>18</td>\n",
       "      <td>2</td>\n",
       "      <td>165</td>\n",
       "      <td>60.0</td>\n",
       "      <td>120</td>\n",
       "      <td>80</td>\n",
       "      <td>1</td>\n",
       "      <td>0</td>\n",
       "      <td>40</td>\n",
       "    </tr>\n",
       "  </tbody>\n",
       "</table>\n",
       "</div>"
      ],
      "text/plain": [
       "    id  gender  height  weight  ap_hi  ap_lo  cholesterol  smoke  \\\n",
       "0    0       2     168    62.0    110     80            1      0   \n",
       "3    3       2     169    82.0    150    100            1      0   \n",
       "7   12       2     178    95.0    130     90            3      0   \n",
       "11  16       2     173    60.0    120     80            1      0   \n",
       "12  18       2     165    60.0    120     80            1      0   \n",
       "\n",
       "    Edad_en_anios  \n",
       "0              50  \n",
       "3              48  \n",
       "7              61  \n",
       "11             51  \n",
       "12             40  "
      ]
     },
     "execution_count": 100,
     "metadata": {},
     "output_type": "execute_result"
    }
   ],
   "source": [
    "hombres = df[df['gender'] == 2]\n",
    "mujeres = df[df['gender'] == 1]\n",
    "fumadores = df[df['smoke'] == 1]\n",
    "no_fumadores = df[df['smoke'] == 0]\n",
    "\n",
    "hombres.head()"
   ]
  },
  {
   "cell_type": "markdown",
   "id": "3827ef56-f7d7-4a42-bd66-beacc51e90f8",
   "metadata": {},
   "source": [
    "#### Análisis sobre cada grupo de personas, presión arterial y colesterol"
   ]
  },
  {
   "cell_type": "code",
   "execution_count": 104,
   "id": "bee838d8-6a25-48f0-801c-739103d1a82e",
   "metadata": {},
   "outputs": [
    {
     "name": "stdout",
     "output_type": "stream",
     "text": [
      "Los hombres tienen una presión arterial media mayor que las mujeres.\n",
      "Los fumadores tienen una presión arterial media mayor que los no fumadores.\n",
      "Los no fumadores tienen un peso medio menor que los fumadores.\n"
     ]
    }
   ],
   "source": [
    "hombres = df[df['gender'] == 2]\n",
    "mujeres = df[df['gender'] == 1]\n",
    "fumadores = df[df['smoke'] == 1]\n",
    "no_fumadores = df[df['smoke'] == 0]\n",
    "\n",
    "# Calcular las métricas relevantes para cada grupo\n",
    "media_presion_hombres = hombres['ap_lo'].mean()\n",
    "media_presion_mujeres = mujeres['ap_lo'].mean()\n",
    "media_presion_fumadores = fumadores['ap_lo'].mean()\n",
    "media_presion_no_fumadores = no_fumadores['ap_lo'].mean()\n",
    "media_peso_fumadores = fumadores['weight'].mean()\n",
    "media_peso_no_fumadores = no_fumadores['weight'].mean()\n",
    "\n",
    "# Comparar las métricas para determinar si hay diferencias significativas\n",
    "if media_presion_hombres > media_presion_mujeres:\n",
    "    print(\"Los hombres tienen una presión arterial media mayor que las mujeres.\")\n",
    "elif media_presion_hombres < media_presion_mujeres:\n",
    "    print(\"Las mujeres tienen una presión arterial media mayor que los hombres.\")\n",
    "else:\n",
    "    print(\"Los hombres y las mujeres tienen una presión arterial media similar.\")\n",
    "\n",
    "if media_presion_fumadores > media_presion_no_fumadores:\n",
    "    print(\"Los fumadores tienen una presión arterial media mayor que los no fumadores.\")\n",
    "elif media_presion_fumadores < media_presion_no_fumadores:\n",
    "    print(\"Los no fumadores tienen una presión arterial media mayor que los fumadores.\")\n",
    "else:\n",
    "    print(\"Los fumadores y los no fumadores tienen una presión arterial media similar.\")\n",
    "\n",
    "if media_peso_fumadores < media_peso_no_fumadores:\n",
    "    print(\"Los fumadores tienen un peso medio menor que los no fumadores.\")\n",
    "elif media_peso_fumadores > media_peso_no_fumadores:\n",
    "    print(\"Los no fumadores tienen un peso medio menor que los fumadores.\")\n",
    "else:\n",
    "    print(\"Los fumadores y los no fumadores tienen un peso medio similar.\")"
   ]
  },
  {
   "cell_type": "code",
   "execution_count": 105,
   "id": "0f53d96e-f3c3-4c63-b4d1-c1c9d80b9628",
   "metadata": {},
   "outputs": [
    {
     "name": "stdout",
     "output_type": "stream",
     "text": [
      "Los fumadores tienen un nivel de colesterol mayor que los no fumadores.\n"
     ]
    }
   ],
   "source": [
    "fumadores = df[df['smoke'] == 1]\n",
    "no_fumadores = df[df['smoke'] == 0]\n",
    "\n",
    "# Calcular la media del colesterol para cada grupo\n",
    "media_colesterol_fumadores = fumadores['cholesterol'].mean()\n",
    "media_colesterol_no_fumadores = no_fumadores['cholesterol'].mean()\n",
    "\n",
    "# Comparar las medias para determinar si hay una diferencia significativa\n",
    "if media_colesterol_fumadores > media_colesterol_no_fumadores:\n",
    "    print(\"Los fumadores tienen un nivel de colesterol mayor que los no fumadores.\")\n",
    "elif media_colesterol_fumadores < media_colesterol_no_fumadores:\n",
    "    print(\"Los fumadores tienen un nivel de colesterol menor que los no fumadores.\")\n",
    "else:\n",
    "    print(\"Los fumadores y los no fumadores tienen niveles de colesterol similares.\")\n"
   ]
  }
 ],
 "metadata": {
  "kernelspec": {
   "display_name": "Python 3 (ipykernel)",
   "language": "python",
   "name": "python3"
  },
  "language_info": {
   "codemirror_mode": {
    "name": "ipython",
    "version": 3
   },
   "file_extension": ".py",
   "mimetype": "text/x-python",
   "name": "python",
   "nbconvert_exporter": "python",
   "pygments_lexer": "ipython3",
   "version": "3.10.12"
  }
 },
 "nbformat": 4,
 "nbformat_minor": 5
}
